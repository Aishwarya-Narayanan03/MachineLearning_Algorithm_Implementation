{
 "cells": [
  {
   "cell_type": "code",
   "execution_count": 85,
   "id": "31be8106",
   "metadata": {},
   "outputs": [],
   "source": [
    "import pandas as pd"
   ]
  },
  {
   "cell_type": "code",
   "execution_count": 86,
   "id": "63824411",
   "metadata": {},
   "outputs": [],
   "source": [
    "from sklearn.linear_model import LinearRegression"
   ]
  },
  {
   "cell_type": "code",
   "execution_count": 87,
   "id": "b54d0305",
   "metadata": {},
   "outputs": [],
   "source": [
    "from sklearn.model_selection import train_test_split"
   ]
  },
  {
   "cell_type": "code",
   "execution_count": 88,
   "id": "afabc978",
   "metadata": {},
   "outputs": [],
   "source": [
    "data = pd.read_csv(\"SIELF.csv\")\n"
   ]
  },
  {
   "cell_type": "code",
   "execution_count": 89,
   "id": "2f21a75d",
   "metadata": {},
   "outputs": [],
   "source": [
    "data.columns = data.columns.str.strip()"
   ]
  },
  {
   "cell_type": "code",
   "execution_count": 90,
   "id": "33aa171b",
   "metadata": {},
   "outputs": [],
   "source": [
    "X = data.drop([\"Date\", \"Close\"], axis=1)  \n",
    "y = data[\"Close\"]"
   ]
  },
  {
   "cell_type": "code",
   "execution_count": 91,
   "id": "4297cae0",
   "metadata": {},
   "outputs": [],
   "source": [
    "X_train, X_test, y_train, y_test = train_test_split(X, y, test_size=0.2, random_state=0)"
   ]
  },
  {
   "cell_type": "code",
   "execution_count": 92,
   "id": "a04d31aa",
   "metadata": {
    "scrolled": true
   },
   "outputs": [
    {
     "data": {
      "text/plain": [
       "LinearRegression()"
      ]
     },
     "execution_count": 92,
     "metadata": {},
     "output_type": "execute_result"
    }
   ],
   "source": [
    "regressor.fit(X_train, y_train)"
   ]
  },
  {
   "cell_type": "code",
   "execution_count": 94,
   "id": "c349a2a9",
   "metadata": {},
   "outputs": [],
   "source": [
    "y_pred = regressor.predict(X_test)\n"
   ]
  },
  {
   "cell_type": "code",
   "execution_count": 95,
   "id": "8fe5560c",
   "metadata": {},
   "outputs": [
    {
     "name": "stdout",
     "output_type": "stream",
     "text": [
      "[0.245  0.245  0.245  0.245  0.245  0.245  0.245  0.245  0.2658 0.245\n",
      " 0.245  0.245  0.245  0.245  0.245  0.2658 0.245  0.245  0.245  0.245\n",
      " 0.245  0.2658 0.245  0.245  0.245  0.245  0.32   0.2658 0.245  0.2658\n",
      " 0.245  0.2658 0.245  0.245  0.245  0.245  0.245  0.32   0.2096 0.245\n",
      " 0.245  0.2096 0.245  0.245  0.245  0.245  0.245  0.2658 0.2658 0.245 ]\n"
     ]
    }
   ],
   "source": [
    "print(y_pred) \n"
   ]
  },
  {
   "cell_type": "code",
   "execution_count": null,
   "id": "30a2a177",
   "metadata": {},
   "outputs": [],
   "source": []
  }
 ],
 "metadata": {
  "kernelspec": {
   "display_name": "Python 3 (ipykernel)",
   "language": "python",
   "name": "python3"
  },
  "language_info": {
   "codemirror_mode": {
    "name": "ipython",
    "version": 3
   },
   "file_extension": ".py",
   "mimetype": "text/x-python",
   "name": "python",
   "nbconvert_exporter": "python",
   "pygments_lexer": "ipython3",
   "version": "3.9.12"
  }
 },
 "nbformat": 4,
 "nbformat_minor": 5
}
